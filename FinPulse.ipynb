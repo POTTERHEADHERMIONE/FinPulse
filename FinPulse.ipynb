{
  "nbformat": 4,
  "nbformat_minor": 0,
  "metadata": {
    "colab": {
      "provenance": [],
      "authorship_tag": "ABX9TyNnYD1ysbmivriMTczl7yHT",
      "include_colab_link": true
    },
    "kernelspec": {
      "name": "python3",
      "display_name": "Python 3"
    },
    "language_info": {
      "name": "python"
    }
  },
  "cells": [
    {
      "cell_type": "markdown",
      "metadata": {
        "id": "view-in-github",
        "colab_type": "text"
      },
      "source": [
        "<a href=\"https://colab.research.google.com/github/POTTERHEADHERMIONE/FinPulse/blob/main/FinPulse.ipynb\" target=\"_parent\"><img src=\"https://colab.research.google.com/assets/colab-badge.svg\" alt=\"Open In Colab\"/></a>"
      ]
    },
    {
      "cell_type": "code",
      "execution_count": null,
      "metadata": {
        "colab": {
          "base_uri": "https://localhost:8080/",
          "height": 73
        },
        "id": "1IiJgnd3Cl6C",
        "outputId": "cbba37f8-61ae-4f21-8161-e95d1f5da695"
      },
      "outputs": [
        {
          "output_type": "display_data",
          "data": {
            "text/plain": [
              "<IPython.core.display.HTML object>"
            ],
            "text/html": [
              "\n",
              "     <input type=\"file\" id=\"files-ddc08e72-70dd-458c-b0de-c96ec5096d69\" name=\"files[]\" multiple disabled\n",
              "        style=\"border:none\" />\n",
              "     <output id=\"result-ddc08e72-70dd-458c-b0de-c96ec5096d69\">\n",
              "      Upload widget is only available when the cell has been executed in the\n",
              "      current browser session. Please rerun this cell to enable.\n",
              "      </output>\n",
              "      <script>// Copyright 2017 Google LLC\n",
              "//\n",
              "// Licensed under the Apache License, Version 2.0 (the \"License\");\n",
              "// you may not use this file except in compliance with the License.\n",
              "// You may obtain a copy of the License at\n",
              "//\n",
              "//      http://www.apache.org/licenses/LICENSE-2.0\n",
              "//\n",
              "// Unless required by applicable law or agreed to in writing, software\n",
              "// distributed under the License is distributed on an \"AS IS\" BASIS,\n",
              "// WITHOUT WARRANTIES OR CONDITIONS OF ANY KIND, either express or implied.\n",
              "// See the License for the specific language governing permissions and\n",
              "// limitations under the License.\n",
              "\n",
              "/**\n",
              " * @fileoverview Helpers for google.colab Python module.\n",
              " */\n",
              "(function(scope) {\n",
              "function span(text, styleAttributes = {}) {\n",
              "  const element = document.createElement('span');\n",
              "  element.textContent = text;\n",
              "  for (const key of Object.keys(styleAttributes)) {\n",
              "    element.style[key] = styleAttributes[key];\n",
              "  }\n",
              "  return element;\n",
              "}\n",
              "\n",
              "// Max number of bytes which will be uploaded at a time.\n",
              "const MAX_PAYLOAD_SIZE = 100 * 1024;\n",
              "\n",
              "function _uploadFiles(inputId, outputId) {\n",
              "  const steps = uploadFilesStep(inputId, outputId);\n",
              "  const outputElement = document.getElementById(outputId);\n",
              "  // Cache steps on the outputElement to make it available for the next call\n",
              "  // to uploadFilesContinue from Python.\n",
              "  outputElement.steps = steps;\n",
              "\n",
              "  return _uploadFilesContinue(outputId);\n",
              "}\n",
              "\n",
              "// This is roughly an async generator (not supported in the browser yet),\n",
              "// where there are multiple asynchronous steps and the Python side is going\n",
              "// to poll for completion of each step.\n",
              "// This uses a Promise to block the python side on completion of each step,\n",
              "// then passes the result of the previous step as the input to the next step.\n",
              "function _uploadFilesContinue(outputId) {\n",
              "  const outputElement = document.getElementById(outputId);\n",
              "  const steps = outputElement.steps;\n",
              "\n",
              "  const next = steps.next(outputElement.lastPromiseValue);\n",
              "  return Promise.resolve(next.value.promise).then((value) => {\n",
              "    // Cache the last promise value to make it available to the next\n",
              "    // step of the generator.\n",
              "    outputElement.lastPromiseValue = value;\n",
              "    return next.value.response;\n",
              "  });\n",
              "}\n",
              "\n",
              "/**\n",
              " * Generator function which is called between each async step of the upload\n",
              " * process.\n",
              " * @param {string} inputId Element ID of the input file picker element.\n",
              " * @param {string} outputId Element ID of the output display.\n",
              " * @return {!Iterable<!Object>} Iterable of next steps.\n",
              " */\n",
              "function* uploadFilesStep(inputId, outputId) {\n",
              "  const inputElement = document.getElementById(inputId);\n",
              "  inputElement.disabled = false;\n",
              "\n",
              "  const outputElement = document.getElementById(outputId);\n",
              "  outputElement.innerHTML = '';\n",
              "\n",
              "  const pickedPromise = new Promise((resolve) => {\n",
              "    inputElement.addEventListener('change', (e) => {\n",
              "      resolve(e.target.files);\n",
              "    });\n",
              "  });\n",
              "\n",
              "  const cancel = document.createElement('button');\n",
              "  inputElement.parentElement.appendChild(cancel);\n",
              "  cancel.textContent = 'Cancel upload';\n",
              "  const cancelPromise = new Promise((resolve) => {\n",
              "    cancel.onclick = () => {\n",
              "      resolve(null);\n",
              "    };\n",
              "  });\n",
              "\n",
              "  // Wait for the user to pick the files.\n",
              "  const files = yield {\n",
              "    promise: Promise.race([pickedPromise, cancelPromise]),\n",
              "    response: {\n",
              "      action: 'starting',\n",
              "    }\n",
              "  };\n",
              "\n",
              "  cancel.remove();\n",
              "\n",
              "  // Disable the input element since further picks are not allowed.\n",
              "  inputElement.disabled = true;\n",
              "\n",
              "  if (!files) {\n",
              "    return {\n",
              "      response: {\n",
              "        action: 'complete',\n",
              "      }\n",
              "    };\n",
              "  }\n",
              "\n",
              "  for (const file of files) {\n",
              "    const li = document.createElement('li');\n",
              "    li.append(span(file.name, {fontWeight: 'bold'}));\n",
              "    li.append(span(\n",
              "        `(${file.type || 'n/a'}) - ${file.size} bytes, ` +\n",
              "        `last modified: ${\n",
              "            file.lastModifiedDate ? file.lastModifiedDate.toLocaleDateString() :\n",
              "                                    'n/a'} - `));\n",
              "    const percent = span('0% done');\n",
              "    li.appendChild(percent);\n",
              "\n",
              "    outputElement.appendChild(li);\n",
              "\n",
              "    const fileDataPromise = new Promise((resolve) => {\n",
              "      const reader = new FileReader();\n",
              "      reader.onload = (e) => {\n",
              "        resolve(e.target.result);\n",
              "      };\n",
              "      reader.readAsArrayBuffer(file);\n",
              "    });\n",
              "    // Wait for the data to be ready.\n",
              "    let fileData = yield {\n",
              "      promise: fileDataPromise,\n",
              "      response: {\n",
              "        action: 'continue',\n",
              "      }\n",
              "    };\n",
              "\n",
              "    // Use a chunked sending to avoid message size limits. See b/62115660.\n",
              "    let position = 0;\n",
              "    do {\n",
              "      const length = Math.min(fileData.byteLength - position, MAX_PAYLOAD_SIZE);\n",
              "      const chunk = new Uint8Array(fileData, position, length);\n",
              "      position += length;\n",
              "\n",
              "      const base64 = btoa(String.fromCharCode.apply(null, chunk));\n",
              "      yield {\n",
              "        response: {\n",
              "          action: 'append',\n",
              "          file: file.name,\n",
              "          data: base64,\n",
              "        },\n",
              "      };\n",
              "\n",
              "      let percentDone = fileData.byteLength === 0 ?\n",
              "          100 :\n",
              "          Math.round((position / fileData.byteLength) * 100);\n",
              "      percent.textContent = `${percentDone}% done`;\n",
              "\n",
              "    } while (position < fileData.byteLength);\n",
              "  }\n",
              "\n",
              "  // All done.\n",
              "  yield {\n",
              "    response: {\n",
              "      action: 'complete',\n",
              "    }\n",
              "  };\n",
              "}\n",
              "\n",
              "scope.google = scope.google || {};\n",
              "scope.google.colab = scope.google.colab || {};\n",
              "scope.google.colab._files = {\n",
              "  _uploadFiles,\n",
              "  _uploadFilesContinue,\n",
              "};\n",
              "})(self);\n",
              "</script> "
            ]
          },
          "metadata": {}
        },
        {
          "output_type": "stream",
          "name": "stdout",
          "text": [
            "Saving all_stocks_5yr.csv to all_stocks_5yr (2).csv\n"
          ]
        }
      ],
      "source": [
        "from google.colab import files\n",
        "import pandas as pd\n",
        "\n",
        "# Upload the file\n",
        "uploaded = files.upload()\n"
      ]
    },
    {
      "cell_type": "code",
      "source": [
        "import pandas as pd\n",
        "\n",
        "# Read the CSV file\n",
        "df = pd.read_csv('all_stocks_5yr.csv')  # Replace 'your_file.csv' with your actual file name\n",
        "\n",
        "# List all unique names under the 'Name' column\n",
        "unique_names = df['Name'].unique()\n",
        "\n",
        "# Print the result\n",
        "print(\"Unique Names in the 'Name' column:\")\n",
        "print(unique_names)\n"
      ],
      "metadata": {
        "colab": {
          "base_uri": "https://localhost:8080/"
        },
        "id": "GmlotA2KJF24",
        "outputId": "19c47235-44b2-4124-e906-6f42ae83f7ab"
      },
      "execution_count": null,
      "outputs": [
        {
          "output_type": "stream",
          "name": "stdout",
          "text": [
            "Unique Names in the 'Name' column:\n",
            "['AAL' 'AAPL' 'AAP' 'ABBV' 'ABC' 'ABT' 'ACN' 'ADBE' 'ADI' 'ADM' 'ADP'\n",
            " 'ADSK' 'ADS' 'AEE' 'AEP' 'AES' 'AET' 'AFL' 'AGN' 'AIG' 'AIV' 'AIZ' 'AJG'\n",
            " 'AKAM' 'ALB' 'ALGN' 'ALK' 'ALLE' 'ALL' 'ALXN' 'AMAT' 'AMD' 'AME' 'AMGN'\n",
            " 'AMG' 'AMP' 'AMT' 'AMZN' 'ANDV' 'ANSS' 'ANTM' 'AON' 'AOS' 'APA' 'APC'\n",
            " 'APD' 'APH' 'APTV' 'ARE' 'ARNC' 'ATVI' 'AVB' 'AVGO' 'AVY' 'AWK' 'AXP'\n",
            " 'AYI' 'AZO' 'A' 'BAC' 'BAX' 'BA' 'BBT' 'BBY' 'BDX' 'BEN' 'BF.B' 'BHF'\n",
            " 'BHGE' 'BIIB' 'BK' 'BLK' 'BLL' 'BMY' 'BRK.B' 'BSX' 'BWA' 'BXP' 'CAG'\n",
            " 'CAH' 'CAT' 'CA' 'CBG' 'CBOE' 'CBS' 'CB' 'CCI' 'CCL' 'CDNS' 'CELG' 'CERN'\n",
            " 'CFG' 'CF' 'CHD' 'CHK' 'CHRW' 'CHTR' 'CINF' 'CI' 'CLX' 'CL' 'CMA' 'CMCSA'\n",
            " 'CME' 'CMG' 'CMI' 'CMS' 'CNC' 'CNP' 'COF' 'COG' 'COL' 'COO' 'COP' 'COST'\n",
            " 'COTY' 'CPB' 'CRM' 'CSCO' 'CSRA' 'CSX' 'CTAS' 'CTL' 'CTSH' 'CTXS' 'CVS'\n",
            " 'CVX' 'CXO' 'C' 'DAL' 'DE' 'DFS' 'DGX' 'DG' 'DHI' 'DHR' 'DISCA' 'DISCK'\n",
            " 'DISH' 'DIS' 'DLR' 'DLTR' 'DOV' 'DPS' 'DRE' 'DRI' 'DTE' 'DUK' 'DVA' 'DVN'\n",
            " 'DWDP' 'DXC' 'D' 'EA' 'EBAY' 'ECL' 'ED' 'EFX' 'EIX' 'EL' 'EMN' 'EMR'\n",
            " 'EOG' 'EQIX' 'EQR' 'EQT' 'ESRX' 'ESS' 'ES' 'ETFC' 'ETN' 'ETR' 'EVHC' 'EW'\n",
            " 'EXC' 'EXPD' 'EXPE' 'EXR' 'FAST' 'FBHS' 'FB' 'FCX' 'FDX' 'FE' 'FFIV'\n",
            " 'FISV' 'FIS' 'FITB' 'FLIR' 'FLR' 'FLS' 'FL' 'FMC' 'FOXA' 'FOX' 'FRT'\n",
            " 'FTI' 'FTV' 'F' 'GD' 'GE' 'GGP' 'GILD' 'GIS' 'GLW' 'GM' 'GOOGL' 'GOOG'\n",
            " 'GPC' 'GPN' 'GPS' 'GRMN' 'GS' 'GT' 'GWW' 'HAL' 'HAS' 'HBAN' 'HBI' 'HCA'\n",
            " 'HCN' 'HCP' 'HD' 'HES' 'HIG' 'HII' 'HLT' 'HOG' 'HOLX' 'HON' 'HPE' 'HPQ'\n",
            " 'HP' 'HRB' 'HRL' 'HRS' 'HSIC' 'HST' 'HSY' 'HUM' 'IBM' 'ICE' 'IDXX' 'IFF'\n",
            " 'ILMN' 'INCY' 'INFO' 'INTC' 'INTU' 'IPG' 'IP' 'IQV' 'IRM' 'IR' 'ISRG'\n",
            " 'ITW' 'IT' 'IVZ' 'JBHT' 'JCI' 'JEC' 'JNJ' 'JNPR' 'JPM' 'JWN' 'KEY' 'KHC'\n",
            " 'KIM' 'KLAC' 'KMB' 'KMI' 'KMX' 'KORS' 'KO' 'KR' 'KSS' 'KSU' 'K' 'LB'\n",
            " 'LEG' 'LEN' 'LH' 'LKQ' 'LLL' 'LLY' 'LMT' 'LNC' 'LNT' 'LOW' 'LRCX' 'LUK'\n",
            " 'LUV' 'LYB' 'L' 'MAA' 'MAC' 'MAR' 'MAS' 'MAT' 'MA' 'MCD' 'MCHP' 'MCK'\n",
            " 'MCO' 'MDLZ' 'MDT' 'MET' 'MGM' 'MHK' 'MKC' 'MLM' 'MMC' 'MMM' 'MNST' 'MON'\n",
            " 'MOS' 'MO' 'MPC' 'MRK' 'MRO' 'MSFT' 'MSI' 'MS' 'MTB' 'MTD' 'MU' 'MYL' 'M'\n",
            " 'NAVI' 'NBL' 'NCLH' 'NDAQ' 'NEE' 'NEM' 'NFLX' 'NFX' 'NI' 'NKE' 'NLSN'\n",
            " 'NOC' 'NOV' 'NRG' 'NSC' 'NTAP' 'NTRS' 'NUE' 'NVDA' 'NWL' 'NWSA' 'NWS'\n",
            " 'OKE' 'OMC' 'ORCL' 'ORLY' 'OXY' 'O' 'PAYX' 'PBCT' 'PCAR' 'PCG' 'PCLN'\n",
            " 'PDCO' 'PEG' 'PEP' 'PFE' 'PFG' 'PGR' 'PG' 'PHM' 'PH' 'PKG' 'PKI' 'PLD'\n",
            " 'PM' 'PNC' 'PNR' 'PNW' 'PPG' 'PPL' 'PRGO' 'PRU' 'PSA' 'PSX' 'PVH' 'PWR'\n",
            " 'PXD' 'PX' 'PYPL' 'QCOM' 'QRVO' 'RCL' 'REGN' 'REG' 'RE' 'RF' 'RHI' 'RHT'\n",
            " 'RJF' 'RL' 'RMD' 'ROK' 'ROP' 'ROST' 'RRC' 'RSG' 'RTN' 'SBAC' 'SBUX' 'SCG'\n",
            " 'SCHW' 'SEE' 'SHW' 'SIG' 'SJM' 'SLB' 'SLG' 'SNA' 'SNI' 'SNPS' 'SO' 'SPGI'\n",
            " 'SPG' 'SRCL' 'SRE' 'STI' 'STT' 'STX' 'STZ' 'SWKS' 'SWK' 'SYF' 'SYK'\n",
            " 'SYMC' 'SYY' 'TAP' 'TDG' 'TEL' 'TGT' 'TIF' 'TJX' 'TMK' 'TMO' 'TPR' 'TRIP'\n",
            " 'TROW' 'TRV' 'TSCO' 'TSN' 'TSS' 'TWX' 'TXN' 'TXT' 'T' 'UAA' 'UAL' 'UA'\n",
            " 'UDR' 'UHS' 'ULTA' 'UNH' 'UNM' 'UNP' 'UPS' 'URI' 'USB' 'UTX' 'VAR' 'VFC'\n",
            " 'VIAB' 'VLO' 'VMC' 'VNO' 'VRSK' 'VRSN' 'VRTX' 'VTR' 'VZ' 'V' 'WAT' 'WBA'\n",
            " 'WDC' 'WEC' 'WFC' 'WHR' 'WLTW' 'WMB' 'WMT' 'WM' 'WRK' 'WU' 'WYNN' 'WYN'\n",
            " 'WY' 'XEC' 'XEL' 'XLNX' 'XL' 'XOM' 'XRAY' 'XRX' 'XYL' 'YUM' 'ZBH' 'ZION'\n",
            " 'ZTS']\n"
          ]
        }
      ]
    },
    {
      "cell_type": "code",
      "source": [
        "import pandas as pd\n",
        "\n",
        "# Read the CSV file\n",
        "df = pd.read_csv('all_stocks_5yr.csv')  # Replace with your actual file name\n",
        "\n",
        "# Get the first 20 unique names\n",
        "first_20_names = df['Name'].unique()[:20]\n",
        "\n",
        "# Filter the DataFrame to keep only rows with the first 20 names\n",
        "filtered_df = df[df['Name'].isin(first_20_names)]\n",
        "\n",
        "# Display the filtered DataFrame\n",
        "print(\"Filtered Data for the First 20 Unique Names:\")\n",
        "print(filtered_df)\n",
        "\n",
        "# Optionally save to a new CSV file\n",
        "filtered_df.to_csv('filtered_first_20_names.csv', index=False)\n"
      ],
      "metadata": {
        "id": "ifdrJy_RJYS9",
        "outputId": "b5712ee1-d66a-4174-ec2c-64b1e64cf9d2",
        "colab": {
          "base_uri": "https://localhost:8080/"
        }
      },
      "execution_count": null,
      "outputs": [
        {
          "output_type": "stream",
          "name": "stdout",
          "text": [
            "Filtered Data for the First 20 Unique Names:\n",
            "             date   open    high     low  close    volume Name\n",
            "0      2013-02-08  15.07  15.120  14.630  14.75   8407500  AAL\n",
            "1      2013-02-11  14.89  15.010  14.260  14.46   8882000  AAL\n",
            "2      2013-02-12  14.45  14.510  14.100  14.27   8126000  AAL\n",
            "3      2013-02-13  14.30  14.940  14.250  14.66  10259500  AAL\n",
            "4      2013-02-14  14.94  14.960  13.160  13.99  31879900  AAL\n",
            "...           ...    ...     ...     ...    ...       ...  ...\n",
            "25175  2018-02-01  63.74  64.275  63.295  64.17   4120710  AIG\n",
            "25176  2018-02-02  63.88  63.970  62.870  63.04   4294412  AIG\n",
            "25177  2018-02-05  62.29  62.600  60.450  60.63   8578180  AIG\n",
            "25178  2018-02-06  59.68  60.680  59.040  60.26  12035697  AIG\n",
            "25179  2018-02-07  60.00  61.300  59.680  60.47   7719767  AIG\n",
            "\n",
            "[25180 rows x 7 columns]\n"
          ]
        }
      ]
    },
    {
      "cell_type": "code",
      "source": [
        "import pandas as pd\n",
        "\n",
        "# Step 1: Load the CSV file\n",
        "df = pd.read_csv('all_stocks_5yr.csv')  # Replace with your actual file name\n",
        "\n",
        "# Step 2: Convert 'Date' column to datetime\n",
        "df['date'] = pd.to_datetime(df['date'], errors='coerce')\n",
        "\n",
        "# Step 3: Filter the data for the specified timeframe\n",
        "filtered_df = df[(df['date'] >= '2013-02-07') & (df['date'] <= '2014-12-06')]\n",
        "\n",
        "\n",
        "\n",
        "# Step 4: Get total number of rows\n",
        "total_rows = filtered_df.shape[0]\n",
        "\n",
        "# Display the filtered data and total rows\n",
        "print(f\"Total number of rows: {total_rows}\")\n",
        "print(filtered_df.head())\n",
        "\n",
        "# Optionally save the filtered data\n",
        "filtered_df.to_csv('filtered_data_2013.csv', index=False)\n"
      ],
      "metadata": {
        "colab": {
          "base_uri": "https://localhost:8080/"
        },
        "id": "I_-BVQYAMN2S",
        "outputId": "654d0aff-d0dc-4b2d-e491-44c290e3aea8"
      },
      "execution_count": null,
      "outputs": [
        {
          "output_type": "stream",
          "name": "stdout",
          "text": [
            "Total number of rows: 222539\n",
            "        date   open   high    low  close    volume Name\n",
            "0 2013-02-08  15.07  15.12  14.63  14.75   8407500  AAL\n",
            "1 2013-02-11  14.89  15.01  14.26  14.46   8882000  AAL\n",
            "2 2013-02-12  14.45  14.51  14.10  14.27   8126000  AAL\n",
            "3 2013-02-13  14.30  14.94  14.25  14.66  10259500  AAL\n",
            "4 2013-02-14  14.94  14.96  13.16  13.99  31879900  AAL\n"
          ]
        }
      ]
    },
    {
      "cell_type": "code",
      "source": [
        "!pip install ta\n"
      ],
      "metadata": {
        "colab": {
          "base_uri": "https://localhost:8080/"
        },
        "id": "9nwz2bs1P3Ei",
        "outputId": "ff293b55-0b36-43d7-f290-39b1a1a01ff0"
      },
      "execution_count": null,
      "outputs": [
        {
          "output_type": "stream",
          "name": "stdout",
          "text": [
            "Requirement already satisfied: ta in /usr/local/lib/python3.11/dist-packages (0.11.0)\n",
            "Requirement already satisfied: numpy in /usr/local/lib/python3.11/dist-packages (from ta) (2.0.2)\n",
            "Requirement already satisfied: pandas in /usr/local/lib/python3.11/dist-packages (from ta) (2.2.2)\n",
            "Requirement already satisfied: python-dateutil>=2.8.2 in /usr/local/lib/python3.11/dist-packages (from pandas->ta) (2.8.2)\n",
            "Requirement already satisfied: pytz>=2020.1 in /usr/local/lib/python3.11/dist-packages (from pandas->ta) (2025.1)\n",
            "Requirement already satisfied: tzdata>=2022.7 in /usr/local/lib/python3.11/dist-packages (from pandas->ta) (2025.1)\n",
            "Requirement already satisfied: six>=1.5 in /usr/local/lib/python3.11/dist-packages (from python-dateutil>=2.8.2->pandas->ta) (1.17.0)\n"
          ]
        }
      ]
    },
    {
      "cell_type": "code",
      "source": [
        "import pandas as pd\n",
        "import numpy as np\n",
        "from sklearn.model_selection import train_test_split\n",
        "from sklearn.tree import DecisionTreeRegressor\n",
        "from ta.momentum import RSIIndicator\n",
        "from ta.trend import MACD, AroonIndicator\n",
        "from sklearn.preprocessing import MinMaxScaler\n",
        "from sklearn.ensemble import RandomForestRegressor\n"
      ],
      "metadata": {
        "id": "RUlfQjGTQFBu"
      },
      "execution_count": null,
      "outputs": []
    },
    {
      "cell_type": "code",
      "source": [
        "# Sort data by date for each stock using .loc to avoid SettingWithCopyWarning\n",
        "filtered_df = filtered_df.sort_values(by=['Name', 'date']).copy()\n",
        "\n",
        "# Create indicators with proper columns\n",
        "filtered_df['macd'] = MACD(filtered_df['close']).macd()\n",
        "filtered_df['rsi'] = RSIIndicator(filtered_df['close']).rsi()\n",
        "\n",
        "# Pass correct 'high' and 'low' columns to AroonIndicator\n",
        "aroon_indicator = AroonIndicator(high=filtered_df['high'], low=filtered_df['low'])\n",
        "filtered_df['aroon_up'] = aroon_indicator.aroon_up()\n",
        "filtered_df['aroon_down'] = aroon_indicator.aroon_down()\n",
        "\n",
        "# Fill missing values with the median\n",
        "filtered_df.fillna(filtered_df.median(numeric_only=True), inplace=True)\n",
        "\n",
        "# Display the first few rows and total number of rows\n",
        "print(filtered_df.head())\n",
        "print(f\"Total number of rows: {len(filtered_df)}\")\n"
      ],
      "metadata": {
        "colab": {
          "base_uri": "https://localhost:8080/"
        },
        "id": "HT4v36yHQHyc",
        "outputId": "67030713-d81d-465a-d0d5-619c0b1e00f2"
      },
      "execution_count": null,
      "outputs": [
        {
          "output_type": "stream",
          "name": "stdout",
          "text": [
            "            date   open   high    low  close   volume Name      macd  \\\n",
            "71611 2013-02-08  45.07  45.35  45.00  45.08  1824755    A  0.205274   \n",
            "71612 2013-02-11  45.17  45.18  44.45  44.60  2915405    A  0.205274   \n",
            "71613 2013-02-12  44.81  44.95  44.50  44.62  2373731    A  0.205274   \n",
            "71614 2013-02-13  44.81  45.24  44.68  44.75  2052338    A  0.205274   \n",
            "71615 2013-02-14  44.72  44.78  44.36  44.58  3826245    A  0.205274   \n",
            "\n",
            "             rsi  aroon_up  aroon_down  \n",
            "71611  53.704719      64.0        36.0  \n",
            "71612  53.704719      64.0        36.0  \n",
            "71613  53.704719      64.0        36.0  \n",
            "71614  53.704719      64.0        36.0  \n",
            "71615  53.704719      64.0        36.0  \n",
            "Total number of rows: 222539\n"
          ]
        }
      ]
    },
    {
      "cell_type": "code",
      "source": [
        "# Features: MACD, RSI, Aroon Indicators\n",
        "X = filtered_df[['macd', 'rsi', 'aroon_up', 'aroon_down']]\n",
        "\n",
        "# Targets: High and Low prices\n",
        "y_high = filtered_df['high']\n",
        "y_low = filtered_df['low']\n",
        "\n",
        "# Split data for training and testing\n",
        "X_train_high, X_test_high, y_train_high, y_test_high = train_test_split(X, y_high, test_size=0.2, random_state=42)\n",
        "X_train_low, X_test_low, y_train_low, y_test_low = train_test_split(X, y_low, test_size=0.2, random_state=42)\n"
      ],
      "metadata": {
        "id": "Dc-PqLfAQdZv"
      },
      "execution_count": null,
      "outputs": []
    },
    {
      "cell_type": "code",
      "source": [
        "import numpy as np\n",
        "import pickle\n",
        "from sklearn.model_selection import train_test_split\n",
        "from sklearn.metrics import mean_absolute_error, mean_squared_error\n",
        "from tensorflow.keras.models import Sequential\n",
        "from tensorflow.keras.layers import LSTM, Dense\n",
        "from tensorflow.keras.optimizers import Adam\n",
        "\n",
        "# Define features and target\n",
        "X = filtered_df[['macd', 'rsi', 'aroon_up', 'aroon_down']].values\n",
        "y_high = filtered_df['high'].values\n",
        "y_low = filtered_df['low'].values\n",
        "\n",
        "# Reshape data for LSTM [samples, timesteps, features]\n",
        "X = X.reshape((X.shape[0], 1, X.shape[1]))  # 1 timestep for each sample\n",
        "\n",
        "# Split dataset\n",
        "X_train, X_test, y_high_train, y_high_test = train_test_split(X, y_high, test_size=0.2, random_state=42)\n",
        "_, _, y_low_train, y_low_test = train_test_split(X, y_low, test_size=0.2, random_state=42)\n",
        "\n",
        "# Define LSTM model\n",
        "def build_lstm_model():\n",
        "    model = Sequential()\n",
        "    model.add(LSTM(50, activation='relu', input_shape=(X_train.shape[1], X_train.shape[2])))\n",
        "    model.add(Dense(1))\n",
        "    model.compile(optimizer=Adam(learning_rate=0.001), loss='mse', metrics=['mae'])\n",
        "    return model\n",
        "\n",
        "# Initialize models\n",
        "model_high = build_lstm_model()\n",
        "model_low = build_lstm_model()\n",
        "\n",
        "# Train the models\n",
        "model_high.fit(X_train, y_high_train, epochs=20, batch_size=32, validation_split=0.2, verbose=1)\n",
        "model_low.fit(X_train, y_low_train, epochs=20, batch_size=32, validation_split=0.2, verbose=1)\n",
        "\n",
        "# Evaluate the models\n",
        "high_pred = model_high.predict(X_test)\n",
        "low_pred = model_low.predict(X_test)\n",
        "\n",
        "print(\"High MAE:\", mean_absolute_error(y_high_test, high_pred))\n",
        "print(\"High MSE:\", mean_squared_error(y_high_test, high_pred))\n",
        "print(\"Low MAE:\", mean_absolute_error(y_low_test, low_pred))\n",
        "print(\"Low MSE:\", mean_squared_error(y_low_test, low_pred))\n",
        "\n",
        "# Save models to .h5 format (supported by HSLM4)\n",
        "model_high.save('model_high_lstm.h5')\n",
        "model_low.save('model_low_lstm.h5')\n",
        "\n",
        "print(\"Models saved as 'model_high_lstm.h5' and 'model_low_lstm.h5'\")\n"
      ],
      "metadata": {
        "colab": {
          "base_uri": "https://localhost:8080/"
        },
        "id": "XFOuwCUuAfzZ",
        "outputId": "a2f2522e-209d-43ed-c3f8-342fb5a7ef28"
      },
      "execution_count": 47,
      "outputs": [
        {
          "output_type": "stream",
          "name": "stderr",
          "text": [
            "/usr/local/lib/python3.11/dist-packages/keras/src/layers/rnn/rnn.py:200: UserWarning: Do not pass an `input_shape`/`input_dim` argument to a layer. When using Sequential models, prefer using an `Input(shape)` object as the first layer in the model instead.\n",
            "  super().__init__(**kwargs)\n"
          ]
        },
        {
          "output_type": "stream",
          "name": "stdout",
          "text": [
            "Epoch 1/20\n",
            "\u001b[1m4451/4451\u001b[0m \u001b[32m━━━━━━━━━━━━━━━━━━━━\u001b[0m\u001b[37m\u001b[0m \u001b[1m18s\u001b[0m 3ms/step - loss: 4911.3027 - mae: 35.7989 - val_loss: 4105.8687 - val_mae: 30.9017\n",
            "Epoch 2/20\n",
            "\u001b[1m4451/4451\u001b[0m \u001b[32m━━━━━━━━━━━━━━━━━━━━\u001b[0m\u001b[37m\u001b[0m \u001b[1m21s\u001b[0m 4ms/step - loss: 3452.0161 - mae: 29.9217 - val_loss: 3727.6904 - val_mae: 29.6825\n",
            "Epoch 3/20\n",
            "\u001b[1m4451/4451\u001b[0m \u001b[32m━━━━━━━━━━━━━━━━━━━━\u001b[0m\u001b[37m\u001b[0m \u001b[1m15s\u001b[0m 3ms/step - loss: 3097.7266 - mae: 29.1952 - val_loss: 3447.6887 - val_mae: 29.0507\n",
            "Epoch 4/20\n",
            "\u001b[1m4451/4451\u001b[0m \u001b[32m━━━━━━━━━━━━━━━━━━━━\u001b[0m\u001b[37m\u001b[0m \u001b[1m15s\u001b[0m 3ms/step - loss: 3093.5874 - mae: 29.0795 - val_loss: 3479.4343 - val_mae: 30.7421\n",
            "Epoch 5/20\n",
            "\u001b[1m4451/4451\u001b[0m \u001b[32m━━━━━━━━━━━━━━━━━━━━\u001b[0m\u001b[37m\u001b[0m \u001b[1m17s\u001b[0m 4ms/step - loss: 2821.8157 - mae: 28.6776 - val_loss: 3340.2598 - val_mae: 32.4558\n",
            "Epoch 6/20\n",
            "\u001b[1m4451/4451\u001b[0m \u001b[32m━━━━━━━━━━━━━━━━━━━━\u001b[0m\u001b[37m\u001b[0m \u001b[1m15s\u001b[0m 3ms/step - loss: 2837.2964 - mae: 28.4976 - val_loss: 3169.6499 - val_mae: 28.9598\n",
            "Epoch 7/20\n",
            "\u001b[1m4451/4451\u001b[0m \u001b[32m━━━━━━━━━━━━━━━━━━━━\u001b[0m\u001b[37m\u001b[0m \u001b[1m21s\u001b[0m 3ms/step - loss: 2939.8225 - mae: 28.6766 - val_loss: 3178.7483 - val_mae: 28.5166\n",
            "Epoch 8/20\n",
            "\u001b[1m4451/4451\u001b[0m \u001b[32m━━━━━━━━━━━━━━━━━━━━\u001b[0m\u001b[37m\u001b[0m \u001b[1m18s\u001b[0m 4ms/step - loss: 2703.1318 - mae: 28.0918 - val_loss: 3103.9963 - val_mae: 29.4347\n",
            "Epoch 9/20\n",
            "\u001b[1m4451/4451\u001b[0m \u001b[32m━━━━━━━━━━━━━━━━━━━━\u001b[0m\u001b[37m\u001b[0m \u001b[1m17s\u001b[0m 3ms/step - loss: 2702.6233 - mae: 28.0158 - val_loss: 3073.2388 - val_mae: 29.3896\n",
            "Epoch 10/20\n",
            "\u001b[1m4451/4451\u001b[0m \u001b[32m━━━━━━━━━━━━━━━━━━━━\u001b[0m\u001b[37m\u001b[0m \u001b[1m15s\u001b[0m 3ms/step - loss: 2728.9739 - mae: 27.9402 - val_loss: 3054.3081 - val_mae: 27.9190\n",
            "Epoch 11/20\n",
            "\u001b[1m4451/4451\u001b[0m \u001b[32m━━━━━━━━━━━━━━━━━━━━\u001b[0m\u001b[37m\u001b[0m \u001b[1m15s\u001b[0m 3ms/step - loss: 2645.9827 - mae: 27.8767 - val_loss: 2836.7344 - val_mae: 27.0088\n",
            "Epoch 12/20\n",
            "\u001b[1m4451/4451\u001b[0m \u001b[32m━━━━━━━━━━━━━━━━━━━━\u001b[0m\u001b[37m\u001b[0m \u001b[1m15s\u001b[0m 3ms/step - loss: 2669.8640 - mae: 27.8555 - val_loss: 2909.6389 - val_mae: 28.4957\n",
            "Epoch 13/20\n",
            "\u001b[1m4451/4451\u001b[0m \u001b[32m━━━━━━━━━━━━━━━━━━━━\u001b[0m\u001b[37m\u001b[0m \u001b[1m20s\u001b[0m 3ms/step - loss: 2545.8923 - mae: 27.5800 - val_loss: 2733.3982 - val_mae: 27.0136\n",
            "Epoch 14/20\n",
            "\u001b[1m4451/4451\u001b[0m \u001b[32m━━━━━━━━━━━━━━━━━━━━\u001b[0m\u001b[37m\u001b[0m \u001b[1m21s\u001b[0m 3ms/step - loss: 2600.4426 - mae: 27.5717 - val_loss: 2731.9104 - val_mae: 26.9734\n",
            "Epoch 15/20\n",
            "\u001b[1m4451/4451\u001b[0m \u001b[32m━━━━━━━━━━━━━━━━━━━━\u001b[0m\u001b[37m\u001b[0m \u001b[1m20s\u001b[0m 3ms/step - loss: 2516.2551 - mae: 27.1874 - val_loss: 2851.7803 - val_mae: 29.5012\n",
            "Epoch 16/20\n",
            "\u001b[1m4451/4451\u001b[0m \u001b[32m━━━━━━━━━━━━━━━━━━━━\u001b[0m\u001b[37m\u001b[0m \u001b[1m15s\u001b[0m 3ms/step - loss: 2438.2000 - mae: 27.2280 - val_loss: 2776.9780 - val_mae: 27.5081\n",
            "Epoch 17/20\n",
            "\u001b[1m4451/4451\u001b[0m \u001b[32m━━━━━━━━━━━━━━━━━━━━\u001b[0m\u001b[37m\u001b[0m \u001b[1m20s\u001b[0m 3ms/step - loss: 2348.1196 - mae: 26.8894 - val_loss: 2767.1421 - val_mae: 26.4740\n",
            "Epoch 18/20\n",
            "\u001b[1m4451/4451\u001b[0m \u001b[32m━━━━━━━━━━━━━━━━━━━━\u001b[0m\u001b[37m\u001b[0m \u001b[1m20s\u001b[0m 3ms/step - loss: 2488.0205 - mae: 27.1979 - val_loss: 2962.2278 - val_mae: 30.4354\n",
            "Epoch 19/20\n",
            "\u001b[1m4451/4451\u001b[0m \u001b[32m━━━━━━━━━━━━━━━━━━━━\u001b[0m\u001b[37m\u001b[0m \u001b[1m16s\u001b[0m 4ms/step - loss: 2390.0674 - mae: 26.9538 - val_loss: 2800.4146 - val_mae: 28.5937\n",
            "Epoch 20/20\n",
            "\u001b[1m4451/4451\u001b[0m \u001b[32m━━━━━━━━━━━━━━━━━━━━\u001b[0m\u001b[37m\u001b[0m \u001b[1m21s\u001b[0m 4ms/step - loss: 2505.8765 - mae: 27.1338 - val_loss: 2699.2837 - val_mae: 27.1029\n",
            "Epoch 1/20\n",
            "\u001b[1m4451/4451\u001b[0m \u001b[32m━━━━━━━━━━━━━━━━━━━━\u001b[0m\u001b[37m\u001b[0m \u001b[1m20s\u001b[0m 4ms/step - loss: 4830.7666 - mae: 35.9361 - val_loss: 4077.3215 - val_mae: 30.5839\n",
            "Epoch 2/20\n",
            "\u001b[1m4451/4451\u001b[0m \u001b[32m━━━━━━━━━━━━━━━━━━━━\u001b[0m\u001b[37m\u001b[0m \u001b[1m15s\u001b[0m 3ms/step - loss: 3439.2888 - mae: 30.0655 - val_loss: 3778.0908 - val_mae: 30.3069\n",
            "Epoch 3/20\n",
            "\u001b[1m4451/4451\u001b[0m \u001b[32m━━━━━━━━━━━━━━━━━━━━\u001b[0m\u001b[37m\u001b[0m \u001b[1m21s\u001b[0m 3ms/step - loss: 3321.8726 - mae: 29.5799 - val_loss: 3634.0576 - val_mae: 29.1342\n",
            "Epoch 4/20\n",
            "\u001b[1m4451/4451\u001b[0m \u001b[32m━━━━━━━━━━━━━━━━━━━━\u001b[0m\u001b[37m\u001b[0m \u001b[1m21s\u001b[0m 4ms/step - loss: 3118.2390 - mae: 29.2305 - val_loss: 3713.1313 - val_mae: 32.4523\n",
            "Epoch 5/20\n",
            "\u001b[1m4451/4451\u001b[0m \u001b[32m━━━━━━━━━━━━━━━━━━━━\u001b[0m\u001b[37m\u001b[0m \u001b[1m14s\u001b[0m 3ms/step - loss: 3095.8911 - mae: 29.1083 - val_loss: 3628.5164 - val_mae: 31.3983\n",
            "Epoch 6/20\n",
            "\u001b[1m4451/4451\u001b[0m \u001b[32m━━━━━━━━━━━━━━━━━━━━\u001b[0m\u001b[37m\u001b[0m \u001b[1m15s\u001b[0m 3ms/step - loss: 2917.9377 - mae: 28.7799 - val_loss: 3266.1584 - val_mae: 27.8386\n",
            "Epoch 7/20\n",
            "\u001b[1m4451/4451\u001b[0m \u001b[32m━━━━━━━━━━━━━━━━━━━━\u001b[0m\u001b[37m\u001b[0m \u001b[1m20s\u001b[0m 3ms/step - loss: 2873.8760 - mae: 28.5265 - val_loss: 3192.3813 - val_mae: 29.0123\n",
            "Epoch 8/20\n",
            "\u001b[1m4451/4451\u001b[0m \u001b[32m━━━━━━━━━━━━━━━━━━━━\u001b[0m\u001b[37m\u001b[0m \u001b[1m15s\u001b[0m 3ms/step - loss: 2734.9431 - mae: 28.3262 - val_loss: 3046.0134 - val_mae: 29.0220\n",
            "Epoch 9/20\n",
            "\u001b[1m4451/4451\u001b[0m \u001b[32m━━━━━━━━━━━━━━━━━━━━\u001b[0m\u001b[37m\u001b[0m \u001b[1m21s\u001b[0m 3ms/step - loss: 2676.0344 - mae: 27.9351 - val_loss: 3065.8005 - val_mae: 27.7847\n",
            "Epoch 10/20\n",
            "\u001b[1m4451/4451\u001b[0m \u001b[32m━━━━━━━━━━━━━━━━━━━━\u001b[0m\u001b[37m\u001b[0m \u001b[1m20s\u001b[0m 3ms/step - loss: 2608.4729 - mae: 27.9390 - val_loss: 3001.3379 - val_mae: 27.3186\n",
            "Epoch 11/20\n",
            "\u001b[1m4451/4451\u001b[0m \u001b[32m━━━━━━━━━━━━━━━━━━━━\u001b[0m\u001b[37m\u001b[0m \u001b[1m16s\u001b[0m 4ms/step - loss: 2595.0798 - mae: 27.7668 - val_loss: 2851.9360 - val_mae: 27.9732\n",
            "Epoch 12/20\n",
            "\u001b[1m4451/4451\u001b[0m \u001b[32m━━━━━━━━━━━━━━━━━━━━\u001b[0m\u001b[37m\u001b[0m \u001b[1m20s\u001b[0m 3ms/step - loss: 2446.8911 - mae: 27.5789 - val_loss: 2966.1223 - val_mae: 27.7458\n",
            "Epoch 13/20\n",
            "\u001b[1m4451/4451\u001b[0m \u001b[32m━━━━━━━━━━━━━━━━━━━━\u001b[0m\u001b[37m\u001b[0m \u001b[1m15s\u001b[0m 3ms/step - loss: 2563.4412 - mae: 27.5487 - val_loss: 2786.2959 - val_mae: 26.7279\n",
            "Epoch 14/20\n",
            "\u001b[1m4451/4451\u001b[0m \u001b[32m━━━━━━━━━━━━━━━━━━━━\u001b[0m\u001b[37m\u001b[0m \u001b[1m21s\u001b[0m 3ms/step - loss: 2587.0259 - mae: 27.3316 - val_loss: 2848.9822 - val_mae: 26.8950\n",
            "Epoch 15/20\n",
            "\u001b[1m4451/4451\u001b[0m \u001b[32m━━━━━━━━━━━━━━━━━━━━\u001b[0m\u001b[37m\u001b[0m \u001b[1m20s\u001b[0m 3ms/step - loss: 2476.1516 - mae: 27.2774 - val_loss: 2780.0281 - val_mae: 27.6690\n",
            "Epoch 16/20\n",
            "\u001b[1m4451/4451\u001b[0m \u001b[32m━━━━━━━━━━━━━━━━━━━━\u001b[0m\u001b[37m\u001b[0m \u001b[1m14s\u001b[0m 3ms/step - loss: 2455.1667 - mae: 27.2495 - val_loss: 3018.2356 - val_mae: 31.7957\n",
            "Epoch 17/20\n",
            "\u001b[1m4451/4451\u001b[0m \u001b[32m━━━━━━━━━━━━━━━━━━━━\u001b[0m\u001b[37m\u001b[0m \u001b[1m14s\u001b[0m 3ms/step - loss: 2549.0132 - mae: 27.4488 - val_loss: 2752.8938 - val_mae: 27.0926\n",
            "Epoch 18/20\n",
            "\u001b[1m4451/4451\u001b[0m \u001b[32m━━━━━━━━━━━━━━━━━━━━\u001b[0m\u001b[37m\u001b[0m \u001b[1m15s\u001b[0m 3ms/step - loss: 2462.1594 - mae: 27.1007 - val_loss: 2731.6189 - val_mae: 27.8999\n",
            "Epoch 19/20\n",
            "\u001b[1m4451/4451\u001b[0m \u001b[32m━━━━━━━━━━━━━━━━━━━━\u001b[0m\u001b[37m\u001b[0m \u001b[1m15s\u001b[0m 3ms/step - loss: 2455.2744 - mae: 27.0496 - val_loss: 2633.5056 - val_mae: 26.5358\n",
            "Epoch 20/20\n",
            "\u001b[1m4451/4451\u001b[0m \u001b[32m━━━━━━━━━━━━━━━━━━━━\u001b[0m\u001b[37m\u001b[0m \u001b[1m16s\u001b[0m 4ms/step - loss: 2374.9871 - mae: 26.8628 - val_loss: 2789.0515 - val_mae: 27.6566\n",
            "\u001b[1m1391/1391\u001b[0m \u001b[32m━━━━━━━━━━━━━━━━━━━━\u001b[0m\u001b[37m\u001b[0m \u001b[1m3s\u001b[0m 2ms/step\n",
            "\u001b[1m1391/1391\u001b[0m \u001b[32m━━━━━━━━━━━━━━━━━━━━\u001b[0m\u001b[37m\u001b[0m \u001b[1m3s\u001b[0m 2ms/step\n"
          ]
        },
        {
          "output_type": "stream",
          "name": "stderr",
          "text": [
            "WARNING:absl:You are saving your model as an HDF5 file via `model.save()` or `keras.saving.save_model(model)`. This file format is considered legacy. We recommend using instead the native Keras format, e.g. `model.save('my_model.keras')` or `keras.saving.save_model(model, 'my_model.keras')`. \n",
            "WARNING:absl:You are saving your model as an HDF5 file via `model.save()` or `keras.saving.save_model(model)`. This file format is considered legacy. We recommend using instead the native Keras format, e.g. `model.save('my_model.keras')` or `keras.saving.save_model(model, 'my_model.keras')`. \n"
          ]
        },
        {
          "output_type": "stream",
          "name": "stdout",
          "text": [
            "High MAE: 26.698758870321747\n",
            "High MSE: 2501.0453895609694\n",
            "Low MAE: 27.18651616287853\n",
            "Low MSE: 2561.7281627133634\n",
            "Models saved as 'model_high_lstm.h5' and 'model_low_lstm.h5'\n"
          ]
        }
      ]
    },
    {
      "cell_type": "code",
      "source": [],
      "metadata": {
        "id": "mxFeB9ISvXaA"
      },
      "execution_count": null,
      "outputs": []
    },
    {
      "cell_type": "code",
      "source": [
        "# import pandas as pd\n",
        "# from sklearn.linear_model import LinearRegression\n",
        "\n",
        "# # Initialize the models\n",
        "# model_high = LinearRegression()\n",
        "# model_low = LinearRegression()\n",
        "\n",
        "# # Assuming X_train_high, y_train_high, X_train_low, y_train_low are defined\n",
        "# model_high.fit(X_train_high, y_train_high)\n",
        "# model_low.fit(X_train_low, y_train_low)\n",
        "\n",
        "# def predict_high_low(date, stock_name):\n",
        "#     # Ensure date is in datetime format\n",
        "#     date = pd.to_datetime(date, errors='coerce')\n",
        "\n",
        "#     # Filter for the given date and stock name\n",
        "#     input_row = filtered_df[(filtered_df['date'] == date) &\n",
        "#                             (filtered_df['Name'] == stock_name)]\n",
        "\n",
        "#     if input_row.empty:\n",
        "#         return f\"No data found for {stock_name} on {date.strftime('%Y-%m-%d')}\"\n",
        "\n",
        "#     # Prepare input features\n",
        "#     X_input = input_row[['macd', 'rsi', 'aroon_up', 'aroon_down']].values\n",
        "\n",
        "#     # Make predictions\n",
        "#     predicted_high = model_high.predict(X_input)[0]\n",
        "#     predicted_low = model_low.predict(X_input)[0]\n",
        "\n",
        "#     return f\"Predicted High: {predicted_high:.2f}, Predicted Low: {predicted_low:.2f}\"\n",
        "\n",
        "# # Example usage\n",
        "# print(predict_high_low('10/9/2014', 'AAL'))\n"
      ],
      "metadata": {
        "colab": {
          "base_uri": "https://localhost:8080/"
        },
        "id": "m1JOdJSXQmg-",
        "outputId": "6a8f6cb1-fbcc-4672-cfc6-f80456e79021"
      },
      "execution_count": null,
      "outputs": [
        {
          "output_type": "stream",
          "name": "stdout",
          "text": [
            "Predicted High: 67.88, Predicted Low: 66.50\n"
          ]
        },
        {
          "output_type": "stream",
          "name": "stderr",
          "text": [
            "/usr/local/lib/python3.11/dist-packages/sklearn/utils/validation.py:2739: UserWarning: X does not have valid feature names, but LinearRegression was fitted with feature names\n",
            "  warnings.warn(\n",
            "/usr/local/lib/python3.11/dist-packages/sklearn/utils/validation.py:2739: UserWarning: X does not have valid feature names, but LinearRegression was fitted with feature names\n",
            "  warnings.warn(\n"
          ]
        }
      ]
    },
    {
      "cell_type": "code",
      "source": [
        "# import pickle\n",
        "# from sklearn.model_selection import train_test_split\n",
        "# from sklearn.linear_model import LinearRegression\n",
        "# from sklearn.metrics import mean_absolute_error, mean_squared_error\n",
        "\n",
        "# # Define features and target\n",
        "# X = filtered_df[['macd', 'rsi', 'aroon_up', 'aroon_down']]\n",
        "# y_high = filtered_df['high']\n",
        "# y_low = filtered_df['low']\n",
        "\n",
        "# # Split dataset\n",
        "# X_train, X_test, y_high_train, y_high_test = train_test_split(X, y_high, test_size=0.2, random_state=42)\n",
        "# _, _, y_low_train, y_low_test = train_test_split(X, y_low, test_size=0.2, random_state=42)\n",
        "\n",
        "# # Train Linear Regression model\n",
        "# model_high = LinearRegression()\n",
        "# model_low = LinearRegression()\n",
        "\n",
        "# model_high.fit(X_train, y_high_train)\n",
        "# model_low.fit(X_train, y_low_train)\n",
        "\n",
        "# # Evaluate model\n",
        "# high_pred = model_high.predict(X_test)\n",
        "# low_pred = model_low.predict(X_test)\n",
        "\n",
        "# print(\"High MAE:\", mean_absolute_error(y_high_test, high_pred))\n",
        "# print(\"High MSE:\", mean_squared_error(y_high_test, high_pred))\n",
        "# print(\"Low MAE:\", mean_absolute_error(y_low_test, low_pred))\n",
        "# print(\"Low MSE:\", mean_squared_error(y_low_test, low_pred))\n",
        "\n",
        "# # Save models to .pkl\n",
        "# with open('model_high_lr.pkl', 'wb') as file:\n",
        "#     pickle.dump(model_high, file)\n",
        "\n",
        "# with open('model_low_lr.pkl', 'wb') as file:\n",
        "#     pickle.dump(model_low, file)\n",
        "\n",
        "# print(\"Models saved as 'model_high_lr.pkl' and 'model_low_lr.pkl'\")\n"
      ],
      "metadata": {
        "colab": {
          "base_uri": "https://localhost:8080/"
        },
        "id": "DT-5TxSyLDNy",
        "outputId": "9604dc95-6560-4f93-8bac-defc6f45b1a3"
      },
      "execution_count": null,
      "outputs": [
        {
          "output_type": "stream",
          "name": "stdout",
          "text": [
            "High MAE: 36.599239377859966\n",
            "High MSE: 5264.338181860848\n",
            "Low MAE: 35.97164010203964\n",
            "Low MSE: 5071.47443361036\n",
            "Models saved as 'model_high_lr.pkl' and 'model_low_lr.pkl'\n"
          ]
        }
      ]
    },
    {
      "cell_type": "code",
      "source": [
        "# import pickle\n",
        "# from sklearn.model_selection import train_test_split\n",
        "# from sklearn.tree import DecisionTreeRegressor\n",
        "# from sklearn.metrics import mean_absolute_error, mean_squared_error\n",
        "# from google.colab import files\n",
        "\n",
        "# # Define features and target\n",
        "# X = filtered_df[['macd', 'rsi', 'aroon_up', 'aroon_down']]\n",
        "# y_high = filtered_df['high']\n",
        "# y_low = filtered_df['low']\n",
        "\n",
        "# # Split dataset\n",
        "# X_train, X_test, y_high_train, y_high_test = train_test_split(X, y_high, test_size=0.2, random_state=42)\n",
        "# _, _, y_low_train, y_low_test = train_test_split(X, y_low, test_size=0.2, random_state=42)\n",
        "\n",
        "# # Train Decision Tree Regressor\n",
        "# model_high = DecisionTreeRegressor()\n",
        "# model_low = DecisionTreeRegressor()\n",
        "\n",
        "# model_high.fit(X_train, y_high_train)\n",
        "# model_low.fit(X_train, y_low_train)\n",
        "\n",
        "# # Evaluate model\n",
        "# high_pred = model_high.predict(X_test)\n",
        "# low_pred = model_low.predict(X_test)\n",
        "\n",
        "# print(\"High MAE:\", mean_absolute_error(y_high_test, high_pred))\n",
        "# print(\"Low MAE:\", mean_absolute_error(y_low_test, low_pred))\n",
        "\n",
        "# # Save models to .pkl\n",
        "# with open('model_high.pkl', 'wb') as file:\n",
        "#     pickle.dump(model_high, file)\n",
        "\n",
        "# with open('model_low.pkl', 'wb') as file:\n",
        "#     pickle.dump(model_low, file)\n",
        "\n",
        "# print(\"Models saved as 'model_high.pkl' and 'model_low.pkl'\")\n",
        "\n",
        "# # Load the Pickle Files Directly\n",
        "# with open('/content/model_high.pkl', 'rb') as file:\n",
        "#     loaded_model_high = pickle.load(file)\n",
        "\n",
        "# with open('/content/model_low.pkl', 'rb') as file:\n",
        "#     loaded_model_low = pickle.load(file)\n",
        "\n",
        "# # Test the loaded models\n",
        "# sample_input = [[0.5, 0.3, 0.7, 0.2]]  # Example input [macd, rsi, aroon_up, aroon_down]\n",
        "\n",
        "# pred_high = loaded_model_high.predict(sample_input)[0]\n",
        "# pred_low = loaded_model_low.predict(sample_input)[0]\n",
        "\n",
        "# print(f\"Predicted High: {pred_high}, Predicted Low: {pred_low}\")\n",
        "\n",
        "# # Generate Verilog Code\n",
        "# def generate_verilog(high_pred, low_pred):\n",
        "#     verilog_code = f\"\"\"\n",
        "#     // Generated Verilog Code for Artix-7 FPGA\n",
        "#     module StockPredictor(\n",
        "#         input wire clk,\n",
        "#         output reg [31:0] predicted_high,\n",
        "#         output reg [31:0] predicted_low\n",
        "#     );\n",
        "\n",
        "#     always @(posedge clk) begin\n",
        "#         predicted_high = 32'd{int(high_pred)};\n",
        "#         predicted_low = 32'd{int(low_pred)};\n",
        "#     end\n",
        "\n",
        "#     endmodule\n",
        "#     \"\"\"\n",
        "#     return verilog_code\n",
        "\n",
        "# # Generate and Save Verilog Code\n",
        "# verilog_code = generate_verilog(pred_high, pred_low)\n",
        "\n",
        "# with open('stock_predictor.v', 'w') as file:\n",
        "#     file.write(verilog_code)\n",
        "\n",
        "# print(\"Verilog code generated and saved as 'stock_predictor.v'.\")\n",
        "\n",
        "# # Download the file to the local system\n",
        "# files.download('stock_predictor.v')"
      ],
      "metadata": {
        "id": "y-6BlUXliTKB"
      },
      "execution_count": null,
      "outputs": []
    },
    {
      "cell_type": "code",
      "source": [
        "import os\n",
        "\n",
        "# List all files in the current directory\n",
        "os.listdir('.')\n"
      ],
      "metadata": {
        "colab": {
          "base_uri": "https://localhost:8080/"
        },
        "id": "XXBr_V_R7esK",
        "outputId": "05f65129-edab-4f37-afec-a7a5cf1277bb"
      },
      "execution_count": 48,
      "outputs": [
        {
          "output_type": "execute_result",
          "data": {
            "text/plain": [
              "['.config',\n",
              " 'model_high.onnx',\n",
              " 'model_low.onnx',\n",
              " 'all_stocks_5yr (2).csv',\n",
              " 'filtered_first_20_names.csv',\n",
              " 'filtered_data_2013.csv',\n",
              " 'model_low.pkl',\n",
              " 'model_low_lr.pkl',\n",
              " 'model_high_lstm.h5',\n",
              " 'model_high.pkl',\n",
              " 'all_stocks_5yr.csv',\n",
              " 'all_stocks_5yr (1).csv',\n",
              " 'model_high_lr.pkl',\n",
              " 'model_low_lstm.h5',\n",
              " 'sample_data']"
            ]
          },
          "metadata": {},
          "execution_count": 48
        }
      ]
    },
    {
      "cell_type": "code",
      "source": [],
      "metadata": {
        "id": "PsmokNbT7oNV"
      },
      "execution_count": null,
      "outputs": []
    },
    {
      "cell_type": "code",
      "source": [
        "pip install skl2onnx onnx\n"
      ],
      "metadata": {
        "colab": {
          "base_uri": "https://localhost:8080/"
        },
        "id": "9liY_BqLigne",
        "outputId": "527334a1-3b7c-4a23-f493-39fa311b91e8"
      },
      "execution_count": 49,
      "outputs": [
        {
          "output_type": "stream",
          "name": "stdout",
          "text": [
            "Requirement already satisfied: skl2onnx in /usr/local/lib/python3.11/dist-packages (1.18.0)\n",
            "Requirement already satisfied: onnx in /usr/local/lib/python3.11/dist-packages (1.17.0)\n",
            "Requirement already satisfied: scikit-learn>=1.1 in /usr/local/lib/python3.11/dist-packages (from skl2onnx) (1.6.1)\n",
            "Requirement already satisfied: onnxconverter-common>=1.7.0 in /usr/local/lib/python3.11/dist-packages (from skl2onnx) (1.14.0)\n",
            "Requirement already satisfied: numpy>=1.20 in /usr/local/lib/python3.11/dist-packages (from onnx) (2.0.2)\n",
            "Requirement already satisfied: protobuf>=3.20.2 in /usr/local/lib/python3.11/dist-packages (from onnx) (3.20.2)\n",
            "Requirement already satisfied: packaging in /usr/local/lib/python3.11/dist-packages (from onnxconverter-common>=1.7.0->skl2onnx) (24.2)\n",
            "Requirement already satisfied: scipy>=1.6.0 in /usr/local/lib/python3.11/dist-packages (from scikit-learn>=1.1->skl2onnx) (1.14.1)\n",
            "Requirement already satisfied: joblib>=1.2.0 in /usr/local/lib/python3.11/dist-packages (from scikit-learn>=1.1->skl2onnx) (1.4.2)\n",
            "Requirement already satisfied: threadpoolctl>=3.1.0 in /usr/local/lib/python3.11/dist-packages (from scikit-learn>=1.1->skl2onnx) (3.6.0)\n"
          ]
        }
      ]
    },
    {
      "cell_type": "code",
      "source": [
        "pip install tf2onnx\n"
      ],
      "metadata": {
        "colab": {
          "base_uri": "https://localhost:8080/"
        },
        "id": "nj_achofvnpX",
        "outputId": "fa45e050-8abc-4c0f-9ca9-d57a4cb8dacf"
      },
      "execution_count": 51,
      "outputs": [
        {
          "output_type": "stream",
          "name": "stdout",
          "text": [
            "Collecting tf2onnx\n",
            "  Downloading tf2onnx-1.16.1-py3-none-any.whl.metadata (1.3 kB)\n",
            "Requirement already satisfied: numpy>=1.14.1 in /usr/local/lib/python3.11/dist-packages (from tf2onnx) (2.0.2)\n",
            "Requirement already satisfied: onnx>=1.4.1 in /usr/local/lib/python3.11/dist-packages (from tf2onnx) (1.17.0)\n",
            "Requirement already satisfied: requests in /usr/local/lib/python3.11/dist-packages (from tf2onnx) (2.32.3)\n",
            "Requirement already satisfied: six in /usr/local/lib/python3.11/dist-packages (from tf2onnx) (1.17.0)\n",
            "Requirement already satisfied: flatbuffers>=1.12 in /usr/local/lib/python3.11/dist-packages (from tf2onnx) (25.2.10)\n",
            "Requirement already satisfied: protobuf~=3.20 in /usr/local/lib/python3.11/dist-packages (from tf2onnx) (3.20.2)\n",
            "Requirement already satisfied: charset-normalizer<4,>=2 in /usr/local/lib/python3.11/dist-packages (from requests->tf2onnx) (3.4.1)\n",
            "Requirement already satisfied: idna<4,>=2.5 in /usr/local/lib/python3.11/dist-packages (from requests->tf2onnx) (3.10)\n",
            "Requirement already satisfied: urllib3<3,>=1.21.1 in /usr/local/lib/python3.11/dist-packages (from requests->tf2onnx) (2.3.0)\n",
            "Requirement already satisfied: certifi>=2017.4.17 in /usr/local/lib/python3.11/dist-packages (from requests->tf2onnx) (2025.1.31)\n",
            "Downloading tf2onnx-1.16.1-py3-none-any.whl (455 kB)\n",
            "\u001b[2K   \u001b[90m━━━━━━━━━━━━━━━━━━━━━━━━━━━━━━━━━━━━━━━━\u001b[0m \u001b[32m455.8/455.8 kB\u001b[0m \u001b[31m8.5 MB/s\u001b[0m eta \u001b[36m0:00:00\u001b[0m\n",
            "\u001b[?25hInstalling collected packages: tf2onnx\n",
            "Successfully installed tf2onnx-1.16.1\n"
          ]
        }
      ]
    },
    {
      "cell_type": "code",
      "source": [
        "import numpy as np\n",
        "import pickle\n",
        "from tensorflow.keras.models import Sequential, load_model\n",
        "import tf2onnx\n",
        "import tensorflow as tf\n",
        "import os\n",
        "\n",
        "# Load the saved .h5 models with custom_objects if needed\n",
        "model_high = load_model('/content/model_high_lstm.h5', compile=False)\n",
        "model_low = load_model('/content/model_low_lstm.h5', compile=False)\n",
        "\n",
        "# Define input signature\n",
        "spec = (tf.TensorSpec((None, 1, X_train.shape[2]), tf.float32, name=\"input\"),)\n",
        "\n",
        "# Define a concrete function for TensorFlow model\n",
        "@tf.function(input_signature=spec)\n",
        "def high_model_call(input_tensor):\n",
        "    return model_high(input_tensor)\n",
        "\n",
        "@tf.function(input_signature=spec)\n",
        "def low_model_call(input_tensor):\n",
        "    return model_low(input_tensor)\n",
        "\n",
        "# Convert high model to ONNX\n",
        "onnx_model_high, _ = tf2onnx.convert.from_function(\n",
        "    high_model_call,\n",
        "    input_signature=spec,\n",
        "    opset=13,\n",
        "    output_path=\"model_high_lstm.onnx\"\n",
        ")\n",
        "print(\"model_high_lstm.onnx saved.\")\n",
        "\n",
        "# Convert low model to ONNX\n",
        "onnx_model_low, _ = tf2onnx.convert.from_function(\n",
        "    low_model_call,\n",
        "    input_signature=spec,\n",
        "    opset=13,\n",
        "    output_path=\"model_low_lstm.onnx\"\n",
        ")\n",
        "print(\"model_low_lstm.onnx saved.\")\n",
        "\n",
        "# Check if running in Google Colab for download\n",
        "if 'google.colab' in str(get_ipython()):\n",
        "    from google.colab import files\n",
        "    print(\"Downloading ONNX models...\")\n",
        "    files.download(\"model_high_lstm.onnx\")\n",
        "    files.download(\"model_low_lstm.onnx\")\n",
        "else:\n",
        "    from IPython.display import FileLink\n",
        "    print(\"Click the links below to download the models:\")\n",
        "    display(FileLink(\"model_high_lstm.onnx\"))\n",
        "    display(FileLink(\"model_low_lstm.onnx\"))\n"
      ],
      "metadata": {
        "id": "8zkKp-BHihuY",
        "colab": {
          "base_uri": "https://localhost:8080/",
          "height": 173
        },
        "outputId": "e3188d84-9237-4110-9c46-f858a9a5651d"
      },
      "execution_count": 56,
      "outputs": [
        {
          "output_type": "stream",
          "name": "stderr",
          "text": [
            "ERROR:tf2onnx.tfonnx:rewriter <function rewrite_constant_fold at 0x7b5663422b60>: exception `np.cast` was removed in the NumPy 2.0 release. Use `np.asarray(arr, dtype=dtype)` instead.\n",
            "ERROR:tf2onnx.tfonnx:rewriter <function rewrite_constant_fold at 0x7b5663422b60>: exception `np.cast` was removed in the NumPy 2.0 release. Use `np.asarray(arr, dtype=dtype)` instead.\n",
            "ERROR:tf2onnx.tfonnx:rewriter <function rewrite_constant_fold at 0x7b5663422b60>: exception `np.cast` was removed in the NumPy 2.0 release. Use `np.asarray(arr, dtype=dtype)` instead.\n"
          ]
        },
        {
          "output_type": "stream",
          "name": "stdout",
          "text": [
            "model_high_lstm.onnx saved.\n"
          ]
        },
        {
          "output_type": "stream",
          "name": "stderr",
          "text": [
            "ERROR:tf2onnx.tfonnx:rewriter <function rewrite_constant_fold at 0x7b5663422b60>: exception `np.cast` was removed in the NumPy 2.0 release. Use `np.asarray(arr, dtype=dtype)` instead.\n",
            "ERROR:tf2onnx.tfonnx:rewriter <function rewrite_constant_fold at 0x7b5663422b60>: exception `np.cast` was removed in the NumPy 2.0 release. Use `np.asarray(arr, dtype=dtype)` instead.\n",
            "ERROR:tf2onnx.tfonnx:rewriter <function rewrite_constant_fold at 0x7b5663422b60>: exception `np.cast` was removed in the NumPy 2.0 release. Use `np.asarray(arr, dtype=dtype)` instead.\n"
          ]
        },
        {
          "output_type": "stream",
          "name": "stdout",
          "text": [
            "model_low_lstm.onnx saved.\n",
            "Downloading ONNX models...\n"
          ]
        },
        {
          "output_type": "display_data",
          "data": {
            "text/plain": [
              "<IPython.core.display.Javascript object>"
            ],
            "application/javascript": [
              "\n",
              "    async function download(id, filename, size) {\n",
              "      if (!google.colab.kernel.accessAllowed) {\n",
              "        return;\n",
              "      }\n",
              "      const div = document.createElement('div');\n",
              "      const label = document.createElement('label');\n",
              "      label.textContent = `Downloading \"${filename}\": `;\n",
              "      div.appendChild(label);\n",
              "      const progress = document.createElement('progress');\n",
              "      progress.max = size;\n",
              "      div.appendChild(progress);\n",
              "      document.body.appendChild(div);\n",
              "\n",
              "      const buffers = [];\n",
              "      let downloaded = 0;\n",
              "\n",
              "      const channel = await google.colab.kernel.comms.open(id);\n",
              "      // Send a message to notify the kernel that we're ready.\n",
              "      channel.send({})\n",
              "\n",
              "      for await (const message of channel.messages) {\n",
              "        // Send a message to notify the kernel that we're ready.\n",
              "        channel.send({})\n",
              "        if (message.buffers) {\n",
              "          for (const buffer of message.buffers) {\n",
              "            buffers.push(buffer);\n",
              "            downloaded += buffer.byteLength;\n",
              "            progress.value = downloaded;\n",
              "          }\n",
              "        }\n",
              "      }\n",
              "      const blob = new Blob(buffers, {type: 'application/binary'});\n",
              "      const a = document.createElement('a');\n",
              "      a.href = window.URL.createObjectURL(blob);\n",
              "      a.download = filename;\n",
              "      div.appendChild(a);\n",
              "      a.click();\n",
              "      div.remove();\n",
              "    }\n",
              "  "
            ]
          },
          "metadata": {}
        },
        {
          "output_type": "display_data",
          "data": {
            "text/plain": [
              "<IPython.core.display.Javascript object>"
            ],
            "application/javascript": [
              "download(\"download_e5c68e22-8160-4483-852a-70d2cc6545b1\", \"model_high_lstm.onnx\", 53360)"
            ]
          },
          "metadata": {}
        },
        {
          "output_type": "display_data",
          "data": {
            "text/plain": [
              "<IPython.core.display.Javascript object>"
            ],
            "application/javascript": [
              "\n",
              "    async function download(id, filename, size) {\n",
              "      if (!google.colab.kernel.accessAllowed) {\n",
              "        return;\n",
              "      }\n",
              "      const div = document.createElement('div');\n",
              "      const label = document.createElement('label');\n",
              "      label.textContent = `Downloading \"${filename}\": `;\n",
              "      div.appendChild(label);\n",
              "      const progress = document.createElement('progress');\n",
              "      progress.max = size;\n",
              "      div.appendChild(progress);\n",
              "      document.body.appendChild(div);\n",
              "\n",
              "      const buffers = [];\n",
              "      let downloaded = 0;\n",
              "\n",
              "      const channel = await google.colab.kernel.comms.open(id);\n",
              "      // Send a message to notify the kernel that we're ready.\n",
              "      channel.send({})\n",
              "\n",
              "      for await (const message of channel.messages) {\n",
              "        // Send a message to notify the kernel that we're ready.\n",
              "        channel.send({})\n",
              "        if (message.buffers) {\n",
              "          for (const buffer of message.buffers) {\n",
              "            buffers.push(buffer);\n",
              "            downloaded += buffer.byteLength;\n",
              "            progress.value = downloaded;\n",
              "          }\n",
              "        }\n",
              "      }\n",
              "      const blob = new Blob(buffers, {type: 'application/binary'});\n",
              "      const a = document.createElement('a');\n",
              "      a.href = window.URL.createObjectURL(blob);\n",
              "      a.download = filename;\n",
              "      div.appendChild(a);\n",
              "      a.click();\n",
              "      div.remove();\n",
              "    }\n",
              "  "
            ]
          },
          "metadata": {}
        },
        {
          "output_type": "display_data",
          "data": {
            "text/plain": [
              "<IPython.core.display.Javascript object>"
            ],
            "application/javascript": [
              "download(\"download_bb874f6e-0b8b-42dd-b39a-f2fa732305db\", \"model_low_lstm.onnx\", 54113)"
            ]
          },
          "metadata": {}
        }
      ]
    },
    {
      "cell_type": "code",
      "source": [
        "!pip install onnxruntime\n"
      ],
      "metadata": {
        "colab": {
          "base_uri": "https://localhost:8080/"
        },
        "id": "LJaoCDeKiwV5",
        "outputId": "e0d7d35c-3015-4e1b-ee30-c33971530a48"
      },
      "execution_count": null,
      "outputs": [
        {
          "output_type": "stream",
          "name": "stdout",
          "text": [
            "Requirement already satisfied: onnxruntime in /usr/local/lib/python3.11/dist-packages (1.21.0)\n",
            "Requirement already satisfied: coloredlogs in /usr/local/lib/python3.11/dist-packages (from onnxruntime) (15.0.1)\n",
            "Requirement already satisfied: flatbuffers in /usr/local/lib/python3.11/dist-packages (from onnxruntime) (25.2.10)\n",
            "Requirement already satisfied: numpy>=1.21.6 in /usr/local/lib/python3.11/dist-packages (from onnxruntime) (2.0.2)\n",
            "Requirement already satisfied: packaging in /usr/local/lib/python3.11/dist-packages (from onnxruntime) (24.2)\n",
            "Requirement already satisfied: protobuf in /usr/local/lib/python3.11/dist-packages (from onnxruntime) (3.20.2)\n",
            "Requirement already satisfied: sympy in /usr/local/lib/python3.11/dist-packages (from onnxruntime) (1.13.1)\n",
            "Requirement already satisfied: humanfriendly>=9.1 in /usr/local/lib/python3.11/dist-packages (from coloredlogs->onnxruntime) (10.0)\n",
            "Requirement already satisfied: mpmath<1.4,>=1.1.0 in /usr/local/lib/python3.11/dist-packages (from sympy->onnxruntime) (1.3.0)\n"
          ]
        }
      ]
    },
    {
      "cell_type": "code",
      "source": [
        "import onnx\n",
        "import onnxruntime as ort\n",
        "import numpy as np\n",
        "\n",
        "# Load the ONNX model\n",
        "session = ort.InferenceSession(\"model_high.onnx\")\n",
        "\n",
        "# Create sample input (example)\n",
        "input_data = np.array([[1.2, 45.6, 70.3, 30.2]], dtype=np.float32)\n",
        "\n",
        "# Run inference\n",
        "outputs = session.run(None, {'input': input_data})\n",
        "print(\"High Price Prediction:\", outputs[0])\n"
      ],
      "metadata": {
        "colab": {
          "base_uri": "https://localhost:8080/"
        },
        "id": "XYk4XGFik1ir",
        "outputId": "0b1ff3ff-3670-4d1b-a92e-b00e59a47768"
      },
      "execution_count": null,
      "outputs": [
        {
          "output_type": "stream",
          "name": "stdout",
          "text": [
            "High Price Prediction: [[441.8164]]\n"
          ]
        }
      ]
    },
    {
      "cell_type": "code",
      "source": [
        "from google.colab import files\n",
        "files.download(\"model_high.onnx\")\n"
      ],
      "metadata": {
        "colab": {
          "base_uri": "https://localhost:8080/",
          "height": 17
        },
        "id": "dYzcMQmhmY9o",
        "outputId": "427961f6-9339-4927-ad8a-b7a111681b23"
      },
      "execution_count": null,
      "outputs": [
        {
          "output_type": "display_data",
          "data": {
            "text/plain": [
              "<IPython.core.display.Javascript object>"
            ],
            "application/javascript": [
              "\n",
              "    async function download(id, filename, size) {\n",
              "      if (!google.colab.kernel.accessAllowed) {\n",
              "        return;\n",
              "      }\n",
              "      const div = document.createElement('div');\n",
              "      const label = document.createElement('label');\n",
              "      label.textContent = `Downloading \"${filename}\": `;\n",
              "      div.appendChild(label);\n",
              "      const progress = document.createElement('progress');\n",
              "      progress.max = size;\n",
              "      div.appendChild(progress);\n",
              "      document.body.appendChild(div);\n",
              "\n",
              "      const buffers = [];\n",
              "      let downloaded = 0;\n",
              "\n",
              "      const channel = await google.colab.kernel.comms.open(id);\n",
              "      // Send a message to notify the kernel that we're ready.\n",
              "      channel.send({})\n",
              "\n",
              "      for await (const message of channel.messages) {\n",
              "        // Send a message to notify the kernel that we're ready.\n",
              "        channel.send({})\n",
              "        if (message.buffers) {\n",
              "          for (const buffer of message.buffers) {\n",
              "            buffers.push(buffer);\n",
              "            downloaded += buffer.byteLength;\n",
              "            progress.value = downloaded;\n",
              "          }\n",
              "        }\n",
              "      }\n",
              "      const blob = new Blob(buffers, {type: 'application/binary'});\n",
              "      const a = document.createElement('a');\n",
              "      a.href = window.URL.createObjectURL(blob);\n",
              "      a.download = filename;\n",
              "      div.appendChild(a);\n",
              "      a.click();\n",
              "      div.remove();\n",
              "    }\n",
              "  "
            ]
          },
          "metadata": {}
        },
        {
          "output_type": "display_data",
          "data": {
            "text/plain": [
              "<IPython.core.display.Javascript object>"
            ],
            "application/javascript": [
              "download(\"download_48ae5536-80c9-451d-b3db-afb511f56022\", \"model_high.onnx\", 14726555)"
            ]
          },
          "metadata": {}
        }
      ]
    }
  ]
}